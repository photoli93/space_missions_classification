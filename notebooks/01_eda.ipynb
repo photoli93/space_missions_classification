{
 "cells": [
  {
   "cell_type": "markdown",
   "id": "38091bea",
   "metadata": {},
   "source": [
    "# Data Exploratory nb"
   ]
  },
  {
   "cell_type": "code",
   "execution_count": null,
   "id": "88414a5a",
   "metadata": {
    "vscode": {
     "languageId": "plaintext"
    }
   },
   "outputs": [],
   "source": []
  },
  {
   "cell_type": "code",
   "execution_count": null,
   "id": "5f7c1e58",
   "metadata": {
    "vscode": {
     "languageId": "plaintext"
    }
   },
   "outputs": [],
   "source": []
  },
  {
   "cell_type": "code",
   "execution_count": null,
   "id": "a226decf",
   "metadata": {
    "vscode": {
     "languageId": "plaintext"
    }
   },
   "outputs": [],
   "source": []
  }
 ],
 "metadata": {
  "language_info": {
   "name": "python"
  }
 },
 "nbformat": 4,
 "nbformat_minor": 5
}
