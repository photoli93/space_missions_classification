{
 "cells": [
  {
   "cell_type": "markdown",
   "id": "fcda3f38",
   "metadata": {},
   "source": [
    "# Import librairies"
   ]
  },
  {
   "cell_type": "code",
   "execution_count": 1,
   "id": "0833ab3f",
   "metadata": {},
   "outputs": [],
   "source": [
    "import pandas as pd\n",
    "import numpy as np\n",
    "import matplotlib.pyplot as plt\n",
    "import seaborn as sns\n",
    "\n",
    "import re\n",
    "import string\n",
    "import spacy\n",
    "\n",
    "import os\n",
    "import warnings\n",
    "warnings.filterwarnings('ignore')\n",
    "\n",
    "from sklearn.preprocessing import LabelEncoder\n",
    "from sklearn.preprocessing import FunctionTransformer\n",
    "# from sklearn.base import BaseEstimator, TransformerMixin\n",
    "from sklearn.feature_extraction.text import TfidfVectorizer\n",
    "from sklearn.preprocessing import StandardScaler, OneHotEncoder\n",
    "from sklearn.compose import ColumnTransformer\n",
    "from sklearn.pipeline import Pipeline\n",
    "from sklearn.linear_model import LogisticRegression\n",
    "from sklearn.model_selection import train_test_split\n",
    "from sklearn.metrics import classification_report\n",
    "from sklearn.metrics import classification_report, confusion_matrix"
   ]
  },
  {
   "cell_type": "markdown",
   "id": "94b83eca",
   "metadata": {},
   "source": [
    "# Load data"
   ]
  },
  {
   "cell_type": "code",
   "execution_count": 2,
   "id": "3c2dec66",
   "metadata": {},
   "outputs": [
    {
     "data": {
      "text/html": [
       "<div>\n",
       "<style scoped>\n",
       "    .dataframe tbody tr th:only-of-type {\n",
       "        vertical-align: middle;\n",
       "    }\n",
       "\n",
       "    .dataframe tbody tr th {\n",
       "        vertical-align: top;\n",
       "    }\n",
       "\n",
       "    .dataframe thead th {\n",
       "        text-align: right;\n",
       "    }\n",
       "</style>\n",
       "<table border=\"1\" class=\"dataframe\">\n",
       "  <thead>\n",
       "    <tr style=\"text-align: right;\">\n",
       "      <th></th>\n",
       "      <th>Company Name</th>\n",
       "      <th>Location</th>\n",
       "      <th>Datum</th>\n",
       "      <th>Detail</th>\n",
       "      <th>Status Rocket</th>\n",
       "      <th>Rocket</th>\n",
       "      <th>Status Mission</th>\n",
       "      <th>Year</th>\n",
       "      <th>Decade</th>\n",
       "    </tr>\n",
       "  </thead>\n",
       "  <tbody>\n",
       "    <tr>\n",
       "      <th>2318</th>\n",
       "      <td>RVSN USSR</td>\n",
       "      <td>Site 107/1, Kapustin Yar, Russia</td>\n",
       "      <td>1982-07-29 19:40:00</td>\n",
       "      <td>Cosmos-3M (11K65M) | Cosmos 1397</td>\n",
       "      <td>StatusRetired</td>\n",
       "      <td>62.0</td>\n",
       "      <td>Success</td>\n",
       "      <td>1982</td>\n",
       "      <td>1980</td>\n",
       "    </tr>\n",
       "    <tr>\n",
       "      <th>1130</th>\n",
       "      <td>MHI</td>\n",
       "      <td>LA-Y1, Tanegashima Space Center, Japan</td>\n",
       "      <td>2001-08-29 07:00:00</td>\n",
       "      <td>H-IIA 202 | VEP 2 &amp; LRE</td>\n",
       "      <td>StatusActive</td>\n",
       "      <td>90.0</td>\n",
       "      <td>Success</td>\n",
       "      <td>2001</td>\n",
       "      <td>2000</td>\n",
       "    </tr>\n",
       "    <tr>\n",
       "      <th>3430</th>\n",
       "      <td>RVSN USSR</td>\n",
       "      <td>Site 161/35, Baikonur Cosmodrome, Kazakhstan</td>\n",
       "      <td>1970-09-25 14:05:00</td>\n",
       "      <td>Tsyklon | Cosmos 365</td>\n",
       "      <td>StatusRetired</td>\n",
       "      <td>62.0</td>\n",
       "      <td>Success</td>\n",
       "      <td>1970</td>\n",
       "      <td>1970</td>\n",
       "    </tr>\n",
       "    <tr>\n",
       "      <th>123</th>\n",
       "      <td>Roscosmos</td>\n",
       "      <td>Site 81/24, Baikonur Cosmodrome, Kazakhstan</td>\n",
       "      <td>2019-07-13 12:31:00</td>\n",
       "      <td>Proton-M/DM-3 | Spektr-RG</td>\n",
       "      <td>StatusActive</td>\n",
       "      <td>65.0</td>\n",
       "      <td>Success</td>\n",
       "      <td>2019</td>\n",
       "      <td>2010</td>\n",
       "    </tr>\n",
       "    <tr>\n",
       "      <th>4302</th>\n",
       "      <td>US Navy</td>\n",
       "      <td>Douglas F4D Skyray, Naval Air Station Point Mu...</td>\n",
       "      <td>1958-08-29 00:00:00</td>\n",
       "      <td>NOTS-EV-1 Pilot II | Pilot-6 (R3</td>\n",
       "      <td>StatusRetired</td>\n",
       "      <td>62.0</td>\n",
       "      <td>Failure</td>\n",
       "      <td>1958</td>\n",
       "      <td>1950</td>\n",
       "    </tr>\n",
       "  </tbody>\n",
       "</table>\n",
       "</div>"
      ],
      "text/plain": [
       "     Company Name                                           Location  \\\n",
       "2318    RVSN USSR                   Site 107/1, Kapustin Yar, Russia   \n",
       "1130          MHI             LA-Y1, Tanegashima Space Center, Japan   \n",
       "3430    RVSN USSR       Site 161/35, Baikonur Cosmodrome, Kazakhstan   \n",
       "123     Roscosmos        Site 81/24, Baikonur Cosmodrome, Kazakhstan   \n",
       "4302      US Navy  Douglas F4D Skyray, Naval Air Station Point Mu...   \n",
       "\n",
       "                    Datum                            Detail  Status Rocket  \\\n",
       "2318  1982-07-29 19:40:00  Cosmos-3M (11K65M) | Cosmos 1397  StatusRetired   \n",
       "1130  2001-08-29 07:00:00           H-IIA 202 | VEP 2 & LRE   StatusActive   \n",
       "3430  1970-09-25 14:05:00              Tsyklon | Cosmos 365  StatusRetired   \n",
       "123   2019-07-13 12:31:00         Proton-M/DM-3 | Spektr-RG   StatusActive   \n",
       "4302  1958-08-29 00:00:00  NOTS-EV-1 Pilot II | Pilot-6 (R3  StatusRetired   \n",
       "\n",
       "       Rocket Status Mission  Year  Decade  \n",
       "2318     62.0        Success  1982    1980  \n",
       "1130     90.0        Success  2001    2000  \n",
       "3430     62.0        Success  1970    1970  \n",
       "123      65.0        Success  2019    2010  \n",
       "4302     62.0        Failure  1958    1950  "
      ]
     },
     "metadata": {},
     "output_type": "display_data"
    },
    {
     "name": "stdout",
     "output_type": "stream",
     "text": [
      "<class 'pandas.core.frame.DataFrame'>\n",
      "RangeIndex: 4324 entries, 0 to 4323\n",
      "Data columns (total 9 columns):\n",
      " #   Column          Non-Null Count  Dtype  \n",
      "---  ------          --------------  -----  \n",
      " 0   Company Name    4324 non-null   object \n",
      " 1   Location        4324 non-null   object \n",
      " 2   Datum           4324 non-null   object \n",
      " 3   Detail          4324 non-null   object \n",
      " 4   Status Rocket   4324 non-null   object \n",
      " 5    Rocket         4324 non-null   float64\n",
      " 6   Status Mission  4324 non-null   object \n",
      " 7   Year            4324 non-null   int64  \n",
      " 8   Decade          4324 non-null   int64  \n",
      "dtypes: float64(1), int64(2), object(6)\n",
      "memory usage: 304.2+ KB\n",
      "None\n"
     ]
    },
    {
     "data": {
      "text/html": [
       "<div>\n",
       "<style scoped>\n",
       "    .dataframe tbody tr th:only-of-type {\n",
       "        vertical-align: middle;\n",
       "    }\n",
       "\n",
       "    .dataframe tbody tr th {\n",
       "        vertical-align: top;\n",
       "    }\n",
       "\n",
       "    .dataframe thead th {\n",
       "        text-align: right;\n",
       "    }\n",
       "</style>\n",
       "<table border=\"1\" class=\"dataframe\">\n",
       "  <thead>\n",
       "    <tr style=\"text-align: right;\">\n",
       "      <th></th>\n",
       "      <th>Rocket</th>\n",
       "      <th>Year</th>\n",
       "      <th>Decade</th>\n",
       "    </tr>\n",
       "  </thead>\n",
       "  <tbody>\n",
       "    <tr>\n",
       "      <th>count</th>\n",
       "      <td>4324.000000</td>\n",
       "      <td>4324.000000</td>\n",
       "      <td>4324.000000</td>\n",
       "    </tr>\n",
       "    <tr>\n",
       "      <th>mean</th>\n",
       "      <td>76.879204</td>\n",
       "      <td>1987.386679</td>\n",
       "      <td>1982.680389</td>\n",
       "    </tr>\n",
       "    <tr>\n",
       "      <th>std</th>\n",
       "      <td>72.702577</td>\n",
       "      <td>18.072562</td>\n",
       "      <td>17.925194</td>\n",
       "    </tr>\n",
       "    <tr>\n",
       "      <th>min</th>\n",
       "      <td>5.300000</td>\n",
       "      <td>1957.000000</td>\n",
       "      <td>1950.000000</td>\n",
       "    </tr>\n",
       "    <tr>\n",
       "      <th>25%</th>\n",
       "      <td>62.000000</td>\n",
       "      <td>1972.000000</td>\n",
       "      <td>1970.000000</td>\n",
       "    </tr>\n",
       "    <tr>\n",
       "      <th>50%</th>\n",
       "      <td>62.000000</td>\n",
       "      <td>1984.000000</td>\n",
       "      <td>1980.000000</td>\n",
       "    </tr>\n",
       "    <tr>\n",
       "      <th>75%</th>\n",
       "      <td>62.000000</td>\n",
       "      <td>2002.000000</td>\n",
       "      <td>2000.000000</td>\n",
       "    </tr>\n",
       "    <tr>\n",
       "      <th>max</th>\n",
       "      <td>450.000000</td>\n",
       "      <td>2020.000000</td>\n",
       "      <td>2020.000000</td>\n",
       "    </tr>\n",
       "  </tbody>\n",
       "</table>\n",
       "</div>"
      ],
      "text/plain": [
       "            Rocket         Year       Decade\n",
       "count  4324.000000  4324.000000  4324.000000\n",
       "mean     76.879204  1987.386679  1982.680389\n",
       "std      72.702577    18.072562    17.925194\n",
       "min       5.300000  1957.000000  1950.000000\n",
       "25%      62.000000  1972.000000  1970.000000\n",
       "50%      62.000000  1984.000000  1980.000000\n",
       "75%      62.000000  2002.000000  2000.000000\n",
       "max     450.000000  2020.000000  2020.000000"
      ]
     },
     "metadata": {},
     "output_type": "display_data"
    }
   ],
   "source": [
    "file_path = \"../data/processed/dataset_space_mission.csv\"\n",
    "\n",
    "df = pd.read_csv(file_path)\n",
    "\n",
    "display(df.sample(5))\n",
    "print(df.info())\n",
    "display(df.describe())"
   ]
  },
  {
   "cell_type": "markdown",
   "id": "e84a18b9",
   "metadata": {},
   "source": [
    "# NLP Preprocessing"
   ]
  },
  {
   "cell_type": "markdown",
   "id": "1700e6af",
   "metadata": {},
   "source": [
    "## Combine text fields"
   ]
  },
  {
   "cell_type": "code",
   "execution_count": 3,
   "id": "1e4ee29e",
   "metadata": {},
   "outputs": [
    {
     "data": {
      "text/html": [
       "<div>\n",
       "<style scoped>\n",
       "    .dataframe tbody tr th:only-of-type {\n",
       "        vertical-align: middle;\n",
       "    }\n",
       "\n",
       "    .dataframe tbody tr th {\n",
       "        vertical-align: top;\n",
       "    }\n",
       "\n",
       "    .dataframe thead th {\n",
       "        text-align: right;\n",
       "    }\n",
       "</style>\n",
       "<table border=\"1\" class=\"dataframe\">\n",
       "  <thead>\n",
       "    <tr style=\"text-align: right;\">\n",
       "      <th></th>\n",
       "      <th>text_features</th>\n",
       "      <th>Status Mission</th>\n",
       "    </tr>\n",
       "  </thead>\n",
       "  <tbody>\n",
       "    <tr>\n",
       "      <th>461</th>\n",
       "      <td>KCST Unha-3 | Kwangmyngsng-4 Pad 1, Sohae ...</td>\n",
       "      <td>Success</td>\n",
       "    </tr>\n",
       "    <tr>\n",
       "      <th>366</th>\n",
       "      <td>SpaceX Falcon 9 Block 3 | Echostar 23 LC-39A, ...</td>\n",
       "      <td>Success</td>\n",
       "    </tr>\n",
       "    <tr>\n",
       "      <th>1209</th>\n",
       "      <td>ILS Atlas IIAS | Hispasat 1C SLC-36B, Cape Can...</td>\n",
       "      <td>Success</td>\n",
       "    </tr>\n",
       "    <tr>\n",
       "      <th>1405</th>\n",
       "      <td>NASA Space Shuttle Discovery | STS-82 LC-39A, ...</td>\n",
       "      <td>Success</td>\n",
       "    </tr>\n",
       "    <tr>\n",
       "      <th>3446</th>\n",
       "      <td>RVSN USSR Cosmos-2I (63SM) | Intercosmos-3 Sit...</td>\n",
       "      <td>Success</td>\n",
       "    </tr>\n",
       "  </tbody>\n",
       "</table>\n",
       "</div>"
      ],
      "text/plain": [
       "                                          text_features Status Mission\n",
       "461   KCST Unha-3 | Kwangmyngsng-4 Pad 1, Sohae ...        Success\n",
       "366   SpaceX Falcon 9 Block 3 | Echostar 23 LC-39A, ...        Success\n",
       "1209  ILS Atlas IIAS | Hispasat 1C SLC-36B, Cape Can...        Success\n",
       "1405  NASA Space Shuttle Discovery | STS-82 LC-39A, ...        Success\n",
       "3446  RVSN USSR Cosmos-2I (63SM) | Intercosmos-3 Sit...        Success"
      ]
     },
     "metadata": {},
     "output_type": "display_data"
    }
   ],
   "source": [
    "df['text_features'] = df['Company Name'] + \" \" + df['Detail'] + \" \" + df['Location']\n",
    "\n",
    "display(df[['text_features', 'Status Mission']].sample(5))"
   ]
  },
  {
   "cell_type": "markdown",
   "id": "f02bfb0a",
   "metadata": {},
   "source": [
    "## Encoding Target"
   ]
  },
  {
   "cell_type": "code",
   "execution_count": 4,
   "id": "8913704d",
   "metadata": {},
   "outputs": [],
   "source": [
    "le = LabelEncoder()\n",
    "df['target'] = le.fit_transform(df['Status Mission'])"
   ]
  },
  {
   "cell_type": "markdown",
   "id": "4b1226f7",
   "metadata": {},
   "source": [
    "## Splitting dataset into train/test sets"
   ]
  },
  {
   "cell_type": "code",
   "execution_count": 5,
   "id": "4483824e",
   "metadata": {},
   "outputs": [],
   "source": [
    "X = df[['text_features', ' Rocket', 'Status Rocket', 'Decade']]\n",
    "y = df['target']\n",
    "X_train, X_test, y_train, y_test = train_test_split(\n",
    "    X, y, test_size=0.2, stratify=y, random_state=42\n",
    ")"
   ]
  },
  {
   "cell_type": "markdown",
   "id": "c2b12c77",
   "metadata": {},
   "source": [
    "## Wrapper around clean_text_array function"
   ]
  },
  {
   "cell_type": "markdown",
   "id": "9e8a11ba",
   "metadata": {},
   "source": [
    "The text_features column contains technical terms, acronyms, numbers, and mission IDs (e.g., \"STS-9\", \"Cosmos-3M\",...). In this context, semantic context matters less, but preserving the structure of these tokens is crucial for accurate prediction.\n",
    "\n",
    "Using spaCy’s lemmatizer is preferable over NLTK’s because it is robust and context-aware: it automatically applies POS tagging to avoid lemmatization mistakes, handles mixed tokens and keeps numbers, hyphens, and acronyms intact. This ensures the framework extracts meaningful textual features without losing technical information, making the model more accurate and reliable."
   ]
  },
  {
   "cell_type": "code",
   "execution_count": 6,
   "id": "e47f0f3a",
   "metadata": {},
   "outputs": [],
   "source": [
    "nlp = spacy.load(\"en_core_web_sm\", disable=[\"parser\", \"ner\"])\n",
    "\n",
    "def clean_text_array(texts):\n",
    "    cleaned_texts = []\n",
    "    for text in texts:\n",
    "        if not isinstance(text, str):\n",
    "            text = \"\"\n",
    "        text = text.lower()\n",
    "        text = re.sub(r\"[^a-z0-9\\-\\s/]\", \" \", text)\n",
    "        text = re.sub(r\"\\s+\", \" \", text).strip()\n",
    "        doc = nlp(text)\n",
    "        tokens = [token.lemma_ for token in doc \n",
    "                  if token.is_alpha or token.text.isdigit() or \"-\" in token.text]\n",
    "        cleaned_texts.append(\" \".join(tokens))\n",
    "    return cleaned_texts\n",
    "\n",
    "# Wrapping in a FunctionTransformer so it can turn my clean_text_array function into a transformer\n",
    "# (objects that have fit() and transform() methods)\n",
    "text_cleaner = FunctionTransformer(clean_text_array, validate=False)"
   ]
  },
  {
   "cell_type": "markdown",
   "id": "8099e67b",
   "metadata": {},
   "source": [
    "## Vectorization and Feature Engineering"
   ]
  },
  {
   "cell_type": "code",
   "execution_count": 7,
   "id": "d0f1d111",
   "metadata": {},
   "outputs": [],
   "source": [
    "preprocessor = ColumnTransformer(\n",
    "    transformers=[\n",
    "        ('text', Pipeline([\n",
    "            ('clean', text_cleaner),\n",
    "            ('tfidf', TfidfVectorizer(max_features=5000, ngram_range=(1,2)))\n",
    "        ]), 'text_features'),\n",
    "        ('num', StandardScaler(), [' Rocket']),\n",
    "        ('cat', OneHotEncoder(handle_unknown='ignore'), ['Status Rocket', 'Decade'])\n",
    "    ]\n",
    ")\n"
   ]
  },
  {
   "cell_type": "markdown",
   "id": "be4cdffa",
   "metadata": {},
   "source": [
    "# Machine Learning Model"
   ]
  },
  {
   "cell_type": "markdown",
   "id": "6bb20dbe",
   "metadata": {},
   "source": [
    "## Pipeline"
   ]
  },
  {
   "cell_type": "code",
   "execution_count": 8,
   "id": "31735376",
   "metadata": {},
   "outputs": [],
   "source": [
    "pipeline = Pipeline([\n",
    "    ('preprocessor', preprocessor),\n",
    "    ('classifier', LogisticRegression(max_iter=500, class_weight='balanced'))\n",
    "])\n",
    "\n",
    "pipeline.fit(X_train, y_train)\n",
    "y_pred = pipeline.predict(X_test)"
   ]
  },
  {
   "cell_type": "markdown",
   "id": "a8b632ba",
   "metadata": {},
   "source": [
    "## Evaluation"
   ]
  },
  {
   "cell_type": "code",
   "execution_count": 12,
   "id": "b547fa8e",
   "metadata": {},
   "outputs": [
    {
     "name": "stdout",
     "output_type": "stream",
     "text": [
      "Classification Report:\n",
      "                    precision    recall  f1-score   support\n",
      "\n",
      "          Failure       0.35      0.57      0.44        68\n",
      "  Partial Failure       0.04      0.30      0.07        20\n",
      "Prelaunch Failure       0.00      0.00      0.00         1\n",
      "          Success       0.94      0.74      0.83       776\n",
      "\n",
      "         accuracy                           0.72       865\n",
      "        macro avg       0.33      0.40      0.34       865\n",
      "     weighted avg       0.87      0.72      0.78       865\n",
      "\n"
     ]
    }
   ],
   "source": [
    "print(\"Classification Report:\\n\", classification_report(y_test, y_pred, target_names=le.classes_))"
   ]
  },
  {
   "cell_type": "code",
   "execution_count": 13,
   "id": "a554414c",
   "metadata": {},
   "outputs": [
    {
     "data": {
      "image/png": "[encoded data removed]",
      "text/plain": [
       "<Figure size 600x400 with 2 Axes>"
      ]
     },
     "metadata": {},
     "output_type": "display_data"
    }
   ],
   "source": [
    "cm = confusion_matrix(y_test, y_pred)\n",
    "plt.figure(figsize=(6,4))\n",
    "sns.heatmap(cm, annot=True, fmt=\"d\", xticklabels=le.classes_, yticklabels=le.classes_, cmap=\"Blues\")\n",
    "plt.xlabel(\"Predicted\")\n",
    "plt.ylabel(\"True\")\n",
    "plt.title(\"Confusion Matrix\")\n",
    "plt.show()"
   ]
  },
  {
   "cell_type": "markdown",
   "id": "6534d2e8",
   "metadata": {},
   "source": [
    "## Feature Importance"
   ]
  },
  {
   "cell_type": "code",
   "execution_count": 18,
   "id": "ec006fdb",
   "metadata": {},
   "outputs": [
    {
     "name": "stdout",
     "output_type": "stream",
     "text": [
      "\n",
      "Top predictive words for class 'Failure':\n",
      "zenit: 2.153\n",
      "ds: 2.145\n",
      "voskhod zenit: 1.625\n",
      "2i ds: 1.575\n",
      "unknown: 1.238\n",
      "unknown payload: 1.238\n",
      "payload imam: 1.238\n",
      "payload: 1.238\n",
      "cosmos strela: 1.218\n",
      "luna: 1.193\n",
      "\n",
      "Top predictive words for class 'Partial Failure':\n",
      "cosmos: 2.148\n",
      "nvl cosmos: 1.827\n",
      "chinasat lc: 1.788\n",
      "2b ela: 1.768\n",
      "ml cosmos: 1.748\n",
      "molniya nvl: 1.587\n",
      "nvl: 1.587\n",
      "to 1235: 1.535\n",
      "bsat: 1.482\n",
      "\n",
      "Top predictive words for class 'Prelaunch Failure':\n",
      "soyuz ok: 4.449\n",
      "soyuz: 3.023\n",
      "soyuz soyuz: 2.583\n",
      "safir 1b: 1.865\n",
      "ussr soyuz: 1.730\n",
      "vls: 1.714\n",
      "safir: 1.663\n",
      "isa safir: 1.663\n",
      "1b: 1.639\n",
      "\n",
      "Top predictive words for class 'Success':\n",
      "cosmos: 1.512\n",
      "ml molniya: 1.441\n",
      "2i cosmos: 1.429\n",
      "molniya: 1.199\n",
      "cosmos 2i: 1.007\n",
      "2i: 1.007\n",
      "voskhod cosmos: 0.967\n",
      "vostok: 0.961\n",
      "iia: 0.898\n",
      "vostok cosmos: 0.888\n"
     ]
    }
   ],
   "source": [
    "import numpy as np\n",
    "\n",
    "model = pipeline.named_steps['classifier']\n",
    "vectorizer = pipeline.named_steps['preprocessor'].named_transformers_['text'].named_steps['tfidf']\n",
    "feature_names = vectorizer.get_feature_names_out()\n",
    "\n",
    "# For multi-class\n",
    "for class_idx, class_name in enumerate(le.classes_):\n",
    "    coefs = model.coef_[class_idx]\n",
    "    \n",
    "    # Get indices of top 10 features safely\n",
    "    top_pos_idx = np.argsort(coefs)[-10:][::-1]  # largest 10 coefficients\n",
    "    top_features = [(feature_names[i], coefs[i]) for i in top_pos_idx if i < len(feature_names)]\n",
    "    \n",
    "    print(f\"\\nTop predictive words for class '{class_name}':\")\n",
    "    for word, coef in top_features:\n",
    "        print(f\"{word}: {coef:.3f}\")\n"
   ]
  }
 ],
 "metadata": {
  "kernelspec": {
   "display_name": "Python (space_missions_env)",
   "language": "python",
   "name": "space_missions_env"
  },
  "language_info": {
   "codemirror_mode": {
    "name": "ipython",
    "version": 3
   },
   "file_extension": ".py",
   "mimetype": "text/x-python",
   "name": "python",
   "nbconvert_exporter": "python",
   "pygments_lexer": "ipython3",
   "version": "3.12.7"
  }
 },
 "nbformat": 4,
 "nbformat_minor": 5
}
