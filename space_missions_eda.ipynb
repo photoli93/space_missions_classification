{
 "cells": [
  {
   "cell_type": "markdown",
   "id": "85d7ea04",
   "metadata": {},
   "source": [
    "just for the test"
   ]
  },
  {
   "cell_type": "code",
   "execution_count": null,
   "id": "a11fb2bc",
   "metadata": {},
   "outputs": [],
   "source": []
  }
 ],
 "metadata": {
  "language_info": {
   "name": "python"
  }
 },
 "nbformat": 4,
 "nbformat_minor": 5
}
